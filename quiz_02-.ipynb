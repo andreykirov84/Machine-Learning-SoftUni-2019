{
 "cells": [
  {
   "cell_type": "code",
   "execution_count": 1,
   "metadata": {},
   "outputs": [],
   "source": [
    "%matplotlib inline\n",
    "import numpy as np\n",
    "import pandas as pd\n",
    "import matplotlib.pyplot as plt\n"
   ]
  },
  {
   "cell_type": "markdown",
   "metadata": {},
   "source": [
    "Suppose you train a model to predict temperature for a given day (regression). The model performs somewhat well on the training data but not enough. Its performance on the testing data is slightly better but still far from what you desire.\n",
    "\n",
    "What is the problem most likely to be?\n",
    "\n",
    "\n",
    "**High bias**"
   ]
  },
  {
   "cell_type": "markdown",
   "metadata": {},
   "source": [
    "You've got a dataset with two features. You train two logistic regression models\n",
    "\n",
    "model1 = LogisticRegression(C = 100)\n",
    "model2 = LogisticRegression(C = 1)\n",
    "One model returns the following weights: , and the other returns .\n",
    "\n",
    "\n",
    "**model2 because it has high regularization**\n"
   ]
  },
  {
   "cell_type": "markdown",
   "metadata": {},
   "source": [
    "Regularization Coefficient\n",
    "Which of the following are true about the regularization coefficient ? Select all true answers.\n",
    "\n",
    "**Using a value that is too large may lead to underfitting**\n",
    "**Using a value that is too small may lead to overfitting**\n"
   ]
  }
 ],
 "metadata": {
  "kernelspec": {
   "display_name": "Python 3",
   "language": "python",
   "name": "python3"
  },
  "language_info": {
   "codemirror_mode": {
    "name": "ipython",
    "version": 3
   },
   "file_extension": ".py",
   "mimetype": "text/x-python",
   "name": "python",
   "nbconvert_exporter": "python",
   "pygments_lexer": "ipython3",
   "version": "3.7.3"
  }
 },
 "nbformat": 4,
 "nbformat_minor": 2
}
